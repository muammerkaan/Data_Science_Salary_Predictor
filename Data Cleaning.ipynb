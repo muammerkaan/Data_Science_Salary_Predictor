{
 "cells": [
  {
   "cell_type": "code",
   "execution_count": 1,
   "metadata": {},
   "outputs": [],
   "source": [
    "import pandas as pd\n",
    "pd.options.mode.chained_assignment = None  # default='warn'"
   ]
  },
  {
   "cell_type": "code",
   "execution_count": 2,
   "metadata": {},
   "outputs": [],
   "source": [
    "df=pd.read_csv('glassdoor_jobs.csv')"
   ]
  },
  {
   "cell_type": "markdown",
   "metadata": {},
   "source": [
    "# Analyzing what needs to be cleaned:"
   ]
  },
  {
   "cell_type": "code",
   "execution_count": 3,
   "metadata": {},
   "outputs": [
    {
     "data": {
      "text/html": [
       "<div>\n",
       "<style scoped>\n",
       "    .dataframe tbody tr th:only-of-type {\n",
       "        vertical-align: middle;\n",
       "    }\n",
       "\n",
       "    .dataframe tbody tr th {\n",
       "        vertical-align: top;\n",
       "    }\n",
       "\n",
       "    .dataframe thead th {\n",
       "        text-align: right;\n",
       "    }\n",
       "</style>\n",
       "<table border=\"1\" class=\"dataframe\">\n",
       "  <thead>\n",
       "    <tr style=\"text-align: right;\">\n",
       "      <th></th>\n",
       "      <th>Job Title</th>\n",
       "      <th>Salary Estimate</th>\n",
       "      <th>Job Description</th>\n",
       "      <th>Rating</th>\n",
       "      <th>Company Name</th>\n",
       "      <th>Location</th>\n",
       "      <th>Headquarters</th>\n",
       "      <th>Size</th>\n",
       "      <th>Founded</th>\n",
       "      <th>Type of ownership</th>\n",
       "      <th>Industry</th>\n",
       "      <th>Sector</th>\n",
       "      <th>Revenue</th>\n",
       "      <th>Competitors</th>\n",
       "    </tr>\n",
       "  </thead>\n",
       "  <tbody>\n",
       "    <tr>\n",
       "      <th>0</th>\n",
       "      <td>Data Scientist</td>\n",
       "      <td>$64K-$106K (Glassdoor est.)</td>\n",
       "      <td>Secure our Nation, Ignite your Future\\n\\nJoin ...</td>\n",
       "      <td>4.2</td>\n",
       "      <td>ManTech\\n4.2</td>\n",
       "      <td>Chantilly, VA</td>\n",
       "      <td>Herndon, VA</td>\n",
       "      <td>5001 to 10000 employees</td>\n",
       "      <td>1968</td>\n",
       "      <td>Company - Public</td>\n",
       "      <td>Research &amp; Development</td>\n",
       "      <td>Business Services</td>\n",
       "      <td>$1 to $2 billion (USD)</td>\n",
       "      <td>-1</td>\n",
       "    </tr>\n",
       "    <tr>\n",
       "      <th>1</th>\n",
       "      <td>Associate Business Intelligence Data Scientist</td>\n",
       "      <td>$64K-$106K (Glassdoor est.)</td>\n",
       "      <td>Blending customer advisory, customer support, ...</td>\n",
       "      <td>3.2</td>\n",
       "      <td>Carousel Industries\\n3.2</td>\n",
       "      <td>Exeter, RI</td>\n",
       "      <td>Exeter, RI</td>\n",
       "      <td>1001 to 5000 employees</td>\n",
       "      <td>1992</td>\n",
       "      <td>Company - Private</td>\n",
       "      <td>IT Services</td>\n",
       "      <td>Information Technology</td>\n",
       "      <td>$500 million to $1 billion (USD)</td>\n",
       "      <td>-1</td>\n",
       "    </tr>\n",
       "    <tr>\n",
       "      <th>2</th>\n",
       "      <td>Scientist, Population Genomics</td>\n",
       "      <td>$64K-$106K (Glassdoor est.)</td>\n",
       "      <td>WuXi NextCODE is seeking a motivated Scientist...</td>\n",
       "      <td>2.9</td>\n",
       "      <td>Carousel Industries\\n3.2</td>\n",
       "      <td>Cambridge, MA</td>\n",
       "      <td>Cambridge, MA</td>\n",
       "      <td>501 to 1000 employees</td>\n",
       "      <td>2015</td>\n",
       "      <td>Company - Private</td>\n",
       "      <td>Biotech &amp; Pharmaceuticals</td>\n",
       "      <td>Biotech &amp; Pharmaceuticals</td>\n",
       "      <td>Unknown / Non-Applicable</td>\n",
       "      <td>-1</td>\n",
       "    </tr>\n",
       "    <tr>\n",
       "      <th>3</th>\n",
       "      <td>Data Analyst II</td>\n",
       "      <td>$64K-$106K (Glassdoor est.)</td>\n",
       "      <td>The Data Analyst II is responsible for data en...</td>\n",
       "      <td>4.2</td>\n",
       "      <td>Insight Enterprises, Inc.\\n4.2</td>\n",
       "      <td>Plano, TX</td>\n",
       "      <td>Tempe, AZ</td>\n",
       "      <td>5001 to 10000 employees</td>\n",
       "      <td>1988</td>\n",
       "      <td>Company - Public</td>\n",
       "      <td>Enterprise Software &amp; Network Solutions</td>\n",
       "      <td>Information Technology</td>\n",
       "      <td>$5 to $10 billion (USD)</td>\n",
       "      <td>CDW, PCM, SHI International</td>\n",
       "    </tr>\n",
       "    <tr>\n",
       "      <th>4</th>\n",
       "      <td>Sensory Scientist</td>\n",
       "      <td>$64K-$106K (Glassdoor est.)</td>\n",
       "      <td>A leading food production company in St. Louis...</td>\n",
       "      <td>3.8</td>\n",
       "      <td>NIC Infotek\\n3.8</td>\n",
       "      <td>Saint Louis, MO</td>\n",
       "      <td>Tampa, FL</td>\n",
       "      <td>51 to 200 employees</td>\n",
       "      <td>2004</td>\n",
       "      <td>Company - Public</td>\n",
       "      <td>Staffing &amp; Outsourcing</td>\n",
       "      <td>Business Services</td>\n",
       "      <td>Unknown / Non-Applicable</td>\n",
       "      <td>-1</td>\n",
       "    </tr>\n",
       "  </tbody>\n",
       "</table>\n",
       "</div>"
      ],
      "text/plain": [
       "                                        Job Title  \\\n",
       "0                                  Data Scientist   \n",
       "1  Associate Business Intelligence Data Scientist   \n",
       "2                  Scientist, Population Genomics   \n",
       "3                                 Data Analyst II   \n",
       "4                               Sensory Scientist   \n",
       "\n",
       "               Salary Estimate  \\\n",
       "0  $64K-$106K (Glassdoor est.)   \n",
       "1  $64K-$106K (Glassdoor est.)   \n",
       "2  $64K-$106K (Glassdoor est.)   \n",
       "3  $64K-$106K (Glassdoor est.)   \n",
       "4  $64K-$106K (Glassdoor est.)   \n",
       "\n",
       "                                     Job Description  Rating  \\\n",
       "0  Secure our Nation, Ignite your Future\\n\\nJoin ...     4.2   \n",
       "1  Blending customer advisory, customer support, ...     3.2   \n",
       "2  WuXi NextCODE is seeking a motivated Scientist...     2.9   \n",
       "3  The Data Analyst II is responsible for data en...     4.2   \n",
       "4  A leading food production company in St. Louis...     3.8   \n",
       "\n",
       "                     Company Name         Location   Headquarters  \\\n",
       "0                    ManTech\\n4.2    Chantilly, VA    Herndon, VA   \n",
       "1        Carousel Industries\\n3.2       Exeter, RI     Exeter, RI   \n",
       "2        Carousel Industries\\n3.2    Cambridge, MA  Cambridge, MA   \n",
       "3  Insight Enterprises, Inc.\\n4.2        Plano, TX      Tempe, AZ   \n",
       "4                NIC Infotek\\n3.8  Saint Louis, MO      Tampa, FL   \n",
       "\n",
       "                      Size  Founded  Type of ownership  \\\n",
       "0  5001 to 10000 employees     1968   Company - Public   \n",
       "1   1001 to 5000 employees     1992  Company - Private   \n",
       "2    501 to 1000 employees     2015  Company - Private   \n",
       "3  5001 to 10000 employees     1988   Company - Public   \n",
       "4      51 to 200 employees     2004   Company - Public   \n",
       "\n",
       "                                  Industry                     Sector  \\\n",
       "0                   Research & Development          Business Services   \n",
       "1                              IT Services     Information Technology   \n",
       "2                Biotech & Pharmaceuticals  Biotech & Pharmaceuticals   \n",
       "3  Enterprise Software & Network Solutions     Information Technology   \n",
       "4                   Staffing & Outsourcing          Business Services   \n",
       "\n",
       "                            Revenue                  Competitors  \n",
       "0            $1 to $2 billion (USD)                           -1  \n",
       "1  $500 million to $1 billion (USD)                           -1  \n",
       "2          Unknown / Non-Applicable                           -1  \n",
       "3           $5 to $10 billion (USD)  CDW, PCM, SHI International  \n",
       "4          Unknown / Non-Applicable                           -1  "
      ]
     },
     "execution_count": 3,
     "metadata": {},
     "output_type": "execute_result"
    }
   ],
   "source": [
    "df.head()"
   ]
  },
  {
   "cell_type": "code",
   "execution_count": 4,
   "metadata": {},
   "outputs": [
    {
     "data": {
      "text/plain": [
       "(1000, 14)"
      ]
     },
     "execution_count": 4,
     "metadata": {},
     "output_type": "execute_result"
    }
   ],
   "source": [
    "df.shape"
   ]
  },
  {
   "cell_type": "code",
   "execution_count": 5,
   "metadata": {},
   "outputs": [
    {
     "data": {
      "text/plain": [
       "$96K-$156K (Glassdoor est.)     170\n",
       "$94K-$154K (Glassdoor est.)      32\n",
       "$141K-$225K (Glassdoor est.)     32\n",
       "$55K-$91K (Glassdoor est.)       32\n",
       "$112K-$179K (Glassdoor est.)     32\n",
       "$99K-$110K (Glassdoor est.)      32\n",
       "$105K-$166K (Glassdoor est.)     32\n",
       "$72K-$122K (Glassdoor est.)      32\n",
       "$108K-$171K (Glassdoor est.)     32\n",
       "$111K-$181K (Glassdoor est.)     32\n",
       "$115K-$140K (Glassdoor est.)     32\n",
       "$74K-$123K (Glassdoor est.)      32\n",
       "$69K-$118K (Glassdoor est.)      32\n",
       "$60K-$101K (Glassdoor est.)      32\n",
       "$57K-$97K (Glassdoor est.)       32\n",
       "$119K-$186K (Glassdoor est.)     32\n",
       "$60K-$100K (Glassdoor est.)      32\n",
       "$73K-$125K (Glassdoor est.)      32\n",
       "$96K-$101K (Glassdoor est.)      32\n",
       "$109K-$178K (Glassdoor est.)     32\n",
       "$90K-$115K(Employer est.)        32\n",
       "$58K-$69K (Glassdoor est.)       32\n",
       "$97K-$156K (Glassdoor est.)      32\n",
       "$56K-$97K (Glassdoor est.)       32\n",
       "$97K-$154K (Glassdoor est.)      32\n",
       "$57K-$98K (Glassdoor est.)       32\n",
       "$64K-$106K (Glassdoor est.)      30\n",
       "Name: Salary Estimate, dtype: int64"
      ]
     },
     "execution_count": 5,
     "metadata": {},
     "output_type": "execute_result"
    }
   ],
   "source": [
    "df['Salary Estimate'].value_counts()"
   ]
  },
  {
   "cell_type": "code",
   "execution_count": 6,
   "metadata": {},
   "outputs": [
    {
     "data": {
      "text/plain": [
       "San Francisco, CA    64\n",
       "New York, NY         57\n",
       "Boston, MA           30\n",
       "Reston, VA           25\n",
       "-1                   21\n",
       "                     ..\n",
       "Burlington, MA        1\n",
       "Tacoma, WA            1\n",
       "Blue Bell, PA         1\n",
       "Columbia, SC          1\n",
       "Parsippany, NJ        1\n",
       "Name: Headquarters, Length: 282, dtype: int64"
      ]
     },
     "execution_count": 6,
     "metadata": {},
     "output_type": "execute_result"
    }
   ],
   "source": [
    "df['Headquarters'].value_counts()"
   ]
  },
  {
   "cell_type": "code",
   "execution_count": 7,
   "metadata": {},
   "outputs": [
    {
     "data": {
      "text/plain": [
       " 3.6    68\n",
       " 3.8    67\n",
       " 4.0    65\n",
       " 3.9    62\n",
       " 3.5    61\n",
       " 3.4    55\n",
       " 5.0    51\n",
       " 4.1    50\n",
       " 4.2    48\n",
       "-1.0    46\n",
       " 3.7    46\n",
       " 4.5    46\n",
       " 4.3    42\n",
       " 4.6    36\n",
       " 3.1    32\n",
       " 3.2    30\n",
       " 3.3    29\n",
       " 4.4    27\n",
       " 4.7    24\n",
       " 2.9    18\n",
       " 4.9    18\n",
       " 3.0    17\n",
       " 4.8    17\n",
       " 2.5     9\n",
       " 2.2     8\n",
       " 2.3     8\n",
       " 2.7     7\n",
       " 2.6     6\n",
       " 2.8     4\n",
       " 2.4     1\n",
       " 2.0     1\n",
       " 1.5     1\n",
       "Name: Rating, dtype: int64"
      ]
     },
     "execution_count": 7,
     "metadata": {},
     "output_type": "execute_result"
    }
   ],
   "source": [
    "df['Rating'].value_counts()"
   ]
  },
  {
   "cell_type": "markdown",
   "metadata": {},
   "source": [
    "### List of things to be cleaned/added:\n",
    "1. Headquarters with -1 values removed \n",
    "2. Removing \"Glassdoor est\" from Salary\n",
    "3. Converting Salary Estimate to Int (removing K)\n",
    "4. Converting Salary Estimate to Avg. Salary\n",
    "5. Removing ratings with -1 values\n",
    "6. Removing Rating from Company Name field\n",
    "7. Adding a State field\n",
    "8. Checking if job is in the same state as Headquarters\n",
    "9. Adding an Age field for the company\n",
    "10. Adding columns for different job skills listed (Python, R/RStudio, AWS, Spark, Hadoop, Docker,SQL, Linux, Flask, Django, Tensorflow, Keras, PyTorch, Statistics, Algorithms)\n",
    "11. Adding a column for what type of Data Science job\n",
    "12. Adding a column to indicate Seniority level\n",
    "13. Job Description Length\n",
    "14. Number of Competitors"
   ]
  },
  {
   "cell_type": "markdown",
   "metadata": {},
   "source": [
    "# Cleaning "
   ]
  },
  {
   "cell_type": "markdown",
   "metadata": {},
   "source": [
    "### Removing Rows with Null Headquarters:"
   ]
  },
  {
   "cell_type": "code",
   "execution_count": 8,
   "metadata": {},
   "outputs": [],
   "source": [
    "df=df[df['Headquarters']!='-1']"
   ]
  },
  {
   "cell_type": "code",
   "execution_count": 9,
   "metadata": {},
   "outputs": [
    {
     "data": {
      "text/plain": [
       "San Francisco, CA    64\n",
       "New York, NY         57\n",
       "Boston, MA           30\n",
       "Reston, VA           25\n",
       "Cambridge, MA        17\n",
       "                     ..\n",
       "Burlington, MA        1\n",
       "Tacoma, WA            1\n",
       "Blue Bell, PA         1\n",
       "Columbia, SC          1\n",
       "Parsippany, NJ        1\n",
       "Name: Headquarters, Length: 281, dtype: int64"
      ]
     },
     "execution_count": 9,
     "metadata": {},
     "output_type": "execute_result"
    }
   ],
   "source": [
    "df['Headquarters'].value_counts()"
   ]
  },
  {
   "cell_type": "code",
   "execution_count": 10,
   "metadata": {},
   "outputs": [
    {
     "data": {
      "text/plain": [
       "(979, 14)"
      ]
     },
     "execution_count": 10,
     "metadata": {},
     "output_type": "execute_result"
    }
   ],
   "source": [
    "df.shape #only 21 rows removed"
   ]
  },
  {
   "cell_type": "markdown",
   "metadata": {},
   "source": [
    "### Cleaning Salary Data"
   ]
  },
  {
   "cell_type": "code",
   "execution_count": 11,
   "metadata": {
    "scrolled": true
   },
   "outputs": [],
   "source": [
    "salary=df['Salary Estimate'].apply(lambda x:x.split('(')[0])"
   ]
  },
  {
   "cell_type": "code",
   "execution_count": 12,
   "metadata": {},
   "outputs": [
    {
     "data": {
      "text/plain": [
       "0      $64K-$106K \n",
       "1      $64K-$106K \n",
       "2      $64K-$106K \n",
       "3      $64K-$106K \n",
       "4      $64K-$106K \n",
       "          ...     \n",
       "995    $96K-$156K \n",
       "996    $96K-$156K \n",
       "997    $96K-$156K \n",
       "998    $96K-$156K \n",
       "999    $96K-$156K \n",
       "Name: Salary Estimate, Length: 979, dtype: object"
      ]
     },
     "execution_count": 12,
     "metadata": {},
     "output_type": "execute_result"
    }
   ],
   "source": [
    "salary"
   ]
  },
  {
   "cell_type": "code",
   "execution_count": 13,
   "metadata": {},
   "outputs": [],
   "source": [
    "remove_k=salary.apply(lambda x:x.replace('K','').replace('$',''))"
   ]
  },
  {
   "cell_type": "code",
   "execution_count": 14,
   "metadata": {},
   "outputs": [
    {
     "data": {
      "text/plain": [
       "0      64-106 \n",
       "1      64-106 \n",
       "2      64-106 \n",
       "3      64-106 \n",
       "4      64-106 \n",
       "        ...   \n",
       "995    96-156 \n",
       "996    96-156 \n",
       "997    96-156 \n",
       "998    96-156 \n",
       "999    96-156 \n",
       "Name: Salary Estimate, Length: 979, dtype: object"
      ]
     },
     "execution_count": 14,
     "metadata": {},
     "output_type": "execute_result"
    }
   ],
   "source": [
    "remove_k"
   ]
  },
  {
   "cell_type": "code",
   "execution_count": 15,
   "metadata": {},
   "outputs": [],
   "source": [
    "df['min_salary']=remove_k.apply(lambda x: int(x.split('-')[0]))"
   ]
  },
  {
   "cell_type": "code",
   "execution_count": 16,
   "metadata": {},
   "outputs": [
    {
     "data": {
      "text/plain": [
       "0      64\n",
       "1      64\n",
       "2      64\n",
       "3      64\n",
       "4      64\n",
       "       ..\n",
       "995    96\n",
       "996    96\n",
       "997    96\n",
       "998    96\n",
       "999    96\n",
       "Name: min_salary, Length: 979, dtype: int64"
      ]
     },
     "execution_count": 16,
     "metadata": {},
     "output_type": "execute_result"
    }
   ],
   "source": [
    "df['min_salary']"
   ]
  },
  {
   "cell_type": "code",
   "execution_count": 17,
   "metadata": {},
   "outputs": [],
   "source": [
    "df['max_salary']=remove_k.apply(lambda x:int(x.split('-')[1]))"
   ]
  },
  {
   "cell_type": "code",
   "execution_count": 18,
   "metadata": {},
   "outputs": [
    {
     "data": {
      "text/plain": [
       "0      106\n",
       "1      106\n",
       "2      106\n",
       "3      106\n",
       "4      106\n",
       "      ... \n",
       "995    156\n",
       "996    156\n",
       "997    156\n",
       "998    156\n",
       "999    156\n",
       "Name: max_salary, Length: 979, dtype: int64"
      ]
     },
     "execution_count": 18,
     "metadata": {},
     "output_type": "execute_result"
    }
   ],
   "source": [
    "df['max_salary']"
   ]
  },
  {
   "cell_type": "code",
   "execution_count": 19,
   "metadata": {},
   "outputs": [],
   "source": [
    "df['avg_salary']=(df.min_salary+df.max_salary)/2"
   ]
  },
  {
   "cell_type": "code",
   "execution_count": 20,
   "metadata": {},
   "outputs": [
    {
     "data": {
      "text/plain": [
       "0       85.0\n",
       "1       85.0\n",
       "2       85.0\n",
       "3       85.0\n",
       "4       85.0\n",
       "       ...  \n",
       "995    126.0\n",
       "996    126.0\n",
       "997    126.0\n",
       "998    126.0\n",
       "999    126.0\n",
       "Name: avg_salary, Length: 979, dtype: float64"
      ]
     },
     "execution_count": 20,
     "metadata": {},
     "output_type": "execute_result"
    }
   ],
   "source": [
    "df['avg_salary']"
   ]
  },
  {
   "cell_type": "markdown",
   "metadata": {},
   "source": [
    "### Removing rows with Null Ratings:"
   ]
  },
  {
   "cell_type": "code",
   "execution_count": 21,
   "metadata": {},
   "outputs": [],
   "source": [
    "df=df[df['Rating']!=-1.0]"
   ]
  },
  {
   "cell_type": "code",
   "execution_count": 22,
   "metadata": {},
   "outputs": [
    {
     "data": {
      "text/plain": [
       "3.6    68\n",
       "3.8    67\n",
       "4.0    65\n",
       "3.9    62\n",
       "3.5    61\n",
       "3.4    55\n",
       "5.0    50\n",
       "4.1    50\n",
       "4.2    48\n",
       "4.5    46\n",
       "3.7    45\n",
       "4.3    42\n",
       "4.6    36\n",
       "3.1    32\n",
       "3.2    30\n",
       "3.3    29\n",
       "4.4    27\n",
       "4.7    24\n",
       "2.9    18\n",
       "4.9    18\n",
       "4.8    17\n",
       "3.0    17\n",
       "2.5     9\n",
       "2.3     8\n",
       "2.2     8\n",
       "2.7     7\n",
       "2.6     6\n",
       "2.8     4\n",
       "2.4     1\n",
       "2.0     1\n",
       "1.5     1\n",
       "Name: Rating, dtype: int64"
      ]
     },
     "execution_count": 22,
     "metadata": {},
     "output_type": "execute_result"
    }
   ],
   "source": [
    "df['Rating'].value_counts()"
   ]
  },
  {
   "cell_type": "code",
   "execution_count": 23,
   "metadata": {},
   "outputs": [
    {
     "data": {
      "text/plain": [
       "(952, 17)"
      ]
     },
     "execution_count": 23,
     "metadata": {},
     "output_type": "execute_result"
    }
   ],
   "source": [
    "df.shape #Another 27 rows removed"
   ]
  },
  {
   "cell_type": "markdown",
   "metadata": {},
   "source": [
    "### Removing Rating from Company Name field:"
   ]
  },
  {
   "cell_type": "code",
   "execution_count": 24,
   "metadata": {},
   "outputs": [],
   "source": [
    "df[\"Company Name\"]=df['Company Name'].apply(lambda x:x.split('\\n')[0])"
   ]
  },
  {
   "cell_type": "code",
   "execution_count": 25,
   "metadata": {},
   "outputs": [
    {
     "data": {
      "text/plain": [
       "0                        ManTech\n",
       "1            Carousel Industries\n",
       "2            Carousel Industries\n",
       "3      Insight Enterprises, Inc.\n",
       "4                    NIC Infotek\n",
       "                 ...            \n",
       "995                         Eaze\n",
       "996            Goodwater Capital\n",
       "997             Dun & Bradstreet\n",
       "998                     Freestar\n",
       "999              Imperfect Foods\n",
       "Name: Company Name, Length: 952, dtype: object"
      ]
     },
     "execution_count": 25,
     "metadata": {},
     "output_type": "execute_result"
    }
   ],
   "source": [
    "df[\"Company Name\"]"
   ]
  },
  {
   "cell_type": "markdown",
   "metadata": {},
   "source": [
    "### Adding and Cleaning State field:"
   ]
  },
  {
   "cell_type": "code",
   "execution_count": 26,
   "metadata": {},
   "outputs": [],
   "source": [
    "df=df[df['Location']!=\"United States\"] #removing 12 rows with general US location"
   ]
  },
  {
   "cell_type": "code",
   "execution_count": 27,
   "metadata": {},
   "outputs": [],
   "source": [
    "df['Location']=df['Location'].apply(lambda x: x if x != 'Oregon' else 'Portland, OR')"
   ]
  },
  {
   "cell_type": "code",
   "execution_count": 28,
   "metadata": {},
   "outputs": [],
   "source": [
    "df['Location']=df['Location'].apply(lambda x: x if x != 'New Jersey' else 'Princeton, NJ')"
   ]
  },
  {
   "cell_type": "code",
   "execution_count": 29,
   "metadata": {},
   "outputs": [],
   "source": [
    "df['Location']=df['Location'].apply(lambda x: x if x != 'Remote' else 'Remote, Remote')"
   ]
  },
  {
   "cell_type": "code",
   "execution_count": 30,
   "metadata": {},
   "outputs": [],
   "source": [
    "df['State']= df['Location'].apply(lambda x: x.split(',')[-1])"
   ]
  },
  {
   "cell_type": "code",
   "execution_count": 31,
   "metadata": {},
   "outputs": [],
   "source": [
    "df=df[df['State']!=\"United States\"]"
   ]
  },
  {
   "cell_type": "code",
   "execution_count": 32,
   "metadata": {},
   "outputs": [
    {
     "data": {
      "text/plain": [
       "(940, 18)"
      ]
     },
     "execution_count": 32,
     "metadata": {},
     "output_type": "execute_result"
    }
   ],
   "source": [
    "df.shape"
   ]
  },
  {
   "cell_type": "code",
   "execution_count": 33,
   "metadata": {},
   "outputs": [],
   "source": [
    "df['State']=df.State.apply(lambda x: x.replace(' ','')) #removing space before State abbreviation"
   ]
  },
  {
   "cell_type": "code",
   "execution_count": 34,
   "metadata": {},
   "outputs": [],
   "source": [
    "df['State']=df['State'].apply(lambda x: x if x != 'California' else 'CA')"
   ]
  },
  {
   "cell_type": "code",
   "execution_count": 35,
   "metadata": {},
   "outputs": [],
   "source": [
    "df['State']=df['State'].apply(lambda x: x if x != 'Virginia' else 'VA')"
   ]
  },
  {
   "cell_type": "code",
   "execution_count": 36,
   "metadata": {},
   "outputs": [],
   "source": [
    "df['State']= df['State'].apply(lambda x: x if x!= 'LA' else 'CA')"
   ]
  },
  {
   "cell_type": "code",
   "execution_count": 37,
   "metadata": {},
   "outputs": [
    {
     "data": {
      "text/plain": [
       "CA        222\n",
       "VA         93\n",
       "MA         91\n",
       "NY         75\n",
       "TX         64\n",
       "IL         42\n",
       "WA         28\n",
       "DC         27\n",
       "MD         23\n",
       "PA         22\n",
       "FL         19\n",
       "WI         18\n",
       "AZ         17\n",
       "UT         17\n",
       "NJ         17\n",
       "MO         16\n",
       "CO         16\n",
       "OH         14\n",
       "NC         13\n",
       "Remote     13\n",
       "TN         12\n",
       "MI         10\n",
       "OR         10\n",
       "CT          9\n",
       "HI          9\n",
       "GA          6\n",
       "IN          5\n",
       "MN          4\n",
       "RI          4\n",
       "NE          3\n",
       "AL          3\n",
       "OK          3\n",
       "NH          2\n",
       "SC          2\n",
       "MS          2\n",
       "NM          2\n",
       "WV          2\n",
       "KS          2\n",
       "IA          1\n",
       "ID          1\n",
       "KY          1\n",
       "Name: State, dtype: int64"
      ]
     },
     "execution_count": 37,
     "metadata": {},
     "output_type": "execute_result"
    }
   ],
   "source": [
    "df['State'].value_counts()"
   ]
  },
  {
   "cell_type": "markdown",
   "metadata": {},
   "source": [
    "### Job in Headquarters?"
   ]
  },
  {
   "cell_type": "code",
   "execution_count": 38,
   "metadata": {},
   "outputs": [],
   "source": [
    "df['jobhq'] = df.apply(lambda x: 1 if x['Location'] == x['Headquarters'] else 0, axis = 1)"
   ]
  },
  {
   "cell_type": "code",
   "execution_count": 39,
   "metadata": {},
   "outputs": [
    {
     "data": {
      "text/plain": [
       "0    513\n",
       "1    427\n",
       "Name: jobhq, dtype: int64"
      ]
     },
     "execution_count": 39,
     "metadata": {},
     "output_type": "execute_result"
    }
   ],
   "source": [
    "df.jobhq.value_counts()"
   ]
  },
  {
   "cell_type": "markdown",
   "metadata": {},
   "source": [
    "### Age of the Company:"
   ]
  },
  {
   "cell_type": "code",
   "execution_count": 40,
   "metadata": {},
   "outputs": [],
   "source": [
    "df['age']=df.Founded.apply(lambda x: x if x<1 else 2020-x)"
   ]
  },
  {
   "cell_type": "code",
   "execution_count": 41,
   "metadata": {},
   "outputs": [
    {
     "data": {
      "text/plain": [
       "-1      92\n",
       " 24     36\n",
       " 8      35\n",
       " 5      33\n",
       " 4      33\n",
       "        ..\n",
       " 161     1\n",
       " 118     1\n",
       " 44      1\n",
       " 143     1\n",
       " 85      1\n",
       "Name: age, Length: 118, dtype: int64"
      ]
     },
     "execution_count": 41,
     "metadata": {},
     "output_type": "execute_result"
    }
   ],
   "source": [
    "df.age.value_counts() #we have 92 companies with no founding date but we can't remove that many rows"
   ]
  },
  {
   "cell_type": "markdown",
   "metadata": {},
   "source": [
    "### Adding columns for skills required:"
   ]
  },
  {
   "cell_type": "code",
   "execution_count": 42,
   "metadata": {},
   "outputs": [],
   "source": [
    "#python\n",
    "df['python_yn']=df[\"Job Description\"].apply(lambda x:1 if 'python' in x.lower() else 0)"
   ]
  },
  {
   "cell_type": "code",
   "execution_count": 43,
   "metadata": {},
   "outputs": [],
   "source": [
    "#r\n",
    "df['r_yn']=df[\"Job Description\"].apply(lambda x:1 if 'r studio' in x.lower() or 'r-studio' in x.lower() or \",R\" in x or \"R,\" in x or \",R\" in x or \" R \" in x else 0)"
   ]
  },
  {
   "cell_type": "code",
   "execution_count": 44,
   "metadata": {},
   "outputs": [],
   "source": [
    "#aws\n",
    "df['aws_yn']=df[\"Job Description\"].apply(lambda x:1 if 'aws' in x.lower() else 0)"
   ]
  },
  {
   "cell_type": "code",
   "execution_count": 45,
   "metadata": {},
   "outputs": [],
   "source": [
    "#spark\n",
    "df['spark_yn']=df[\"Job Description\"].apply(lambda x:1 if 'spark' in x.lower() else 0)"
   ]
  },
  {
   "cell_type": "code",
   "execution_count": 46,
   "metadata": {},
   "outputs": [],
   "source": [
    "#hadoop\n",
    "df['hadoop_yn']=df[\"Job Description\"].apply(lambda x:1 if 'hadoop' in x.lower() else 0)"
   ]
  },
  {
   "cell_type": "code",
   "execution_count": 47,
   "metadata": {},
   "outputs": [],
   "source": [
    "#docker\n",
    "df['docker_yn']=df[\"Job Description\"].apply(lambda x:1 if 'docker' in x.lower() else 0)"
   ]
  },
  {
   "cell_type": "code",
   "execution_count": 48,
   "metadata": {},
   "outputs": [],
   "source": [
    "#sql\n",
    "df['sql_yn']=df[\"Job Description\"].apply(lambda x:1 if 'sql' in x.lower() else 0)"
   ]
  },
  {
   "cell_type": "code",
   "execution_count": 49,
   "metadata": {},
   "outputs": [],
   "source": [
    "#linux\n",
    "df['linux_yn']=df[\"Job Description\"].apply(lambda x:1 if 'linux' in x.lower() else 0)"
   ]
  },
  {
   "cell_type": "code",
   "execution_count": 50,
   "metadata": {},
   "outputs": [],
   "source": [
    "#flask\n",
    "df['flask_yn']=df[\"Job Description\"].apply(lambda x:1 if 'flask' in x.lower() else 0)"
   ]
  },
  {
   "cell_type": "code",
   "execution_count": 51,
   "metadata": {},
   "outputs": [],
   "source": [
    "#django\n",
    "df['django_yn']=df[\"Job Description\"].apply(lambda x:1 if 'django' in x.lower() else 0)"
   ]
  },
  {
   "cell_type": "code",
   "execution_count": 52,
   "metadata": {},
   "outputs": [],
   "source": [
    "#tensorflow\n",
    "df['tensorflow_yn']=df[\"Job Description\"].apply(lambda x:1 if 'tensorflow' in x.lower() else 0)"
   ]
  },
  {
   "cell_type": "code",
   "execution_count": 53,
   "metadata": {},
   "outputs": [],
   "source": [
    "#keras\n",
    "df['keras_yn']=df[\"Job Description\"].apply(lambda x:1 if 'keras' in x.lower() else 0)"
   ]
  },
  {
   "cell_type": "code",
   "execution_count": 54,
   "metadata": {},
   "outputs": [],
   "source": [
    "#pytorch\n",
    "df['pytorch_yn']=df[\"Job Description\"].apply(lambda x:1 if 'pytorch' in x.lower() else 0)"
   ]
  },
  {
   "cell_type": "code",
   "execution_count": 55,
   "metadata": {},
   "outputs": [],
   "source": [
    "#algorithms\n",
    "df['algo_yn']=df[\"Job Description\"].apply(lambda x:1 if 'algorithms' in x.lower() or 'algorithmic' in x.lower() else 0)"
   ]
  },
  {
   "cell_type": "code",
   "execution_count": 56,
   "metadata": {},
   "outputs": [],
   "source": [
    "#statistics\n",
    "df['stats_yn']=df[\"Job Description\"].apply(lambda x:1 if 'statistics' in x.lower() or 'statistical' in x.lower() else 0)"
   ]
  },
  {
   "cell_type": "code",
   "execution_count": 57,
   "metadata": {},
   "outputs": [],
   "source": [
    "#tableau\n",
    "df['tableau_yn']=df[\"Job Description\"].apply(lambda x:1 if 'tableau' in x.lower() else 0)"
   ]
  },
  {
   "cell_type": "code",
   "execution_count": 58,
   "metadata": {},
   "outputs": [
    {
     "data": {
      "text/plain": [
       "Index(['Job Title', 'Salary Estimate', 'Job Description', 'Rating',\n",
       "       'Company Name', 'Location', 'Headquarters', 'Size', 'Founded',\n",
       "       'Type of ownership', 'Industry', 'Sector', 'Revenue', 'Competitors',\n",
       "       'min_salary', 'max_salary', 'avg_salary', 'State', 'jobhq', 'age',\n",
       "       'python_yn', 'r_yn', 'aws_yn', 'spark_yn', 'hadoop_yn', 'docker_yn',\n",
       "       'sql_yn', 'linux_yn', 'flask_yn', 'django_yn', 'tensorflow_yn',\n",
       "       'keras_yn', 'pytorch_yn', 'algo_yn', 'stats_yn', 'tableau_yn'],\n",
       "      dtype='object')"
      ]
     },
     "execution_count": 58,
     "metadata": {},
     "output_type": "execute_result"
    }
   ],
   "source": [
    "df.columns"
   ]
  },
  {
   "cell_type": "markdown",
   "metadata": {},
   "source": [
    "### Type of Data Science Job"
   ]
  },
  {
   "cell_type": "code",
   "execution_count": 59,
   "metadata": {},
   "outputs": [],
   "source": [
    "def title_simplifier(title):\n",
    "    if 'data scientist' in title.lower():\n",
    "        return 'data scientist'\n",
    "    elif 'data engineer' in title.lower():\n",
    "        return 'data engineer'\n",
    "    elif 'analyst' in title.lower():\n",
    "        return 'analyst'\n",
    "    elif 'machine learning' in title.lower():\n",
    "        return 'mle'\n",
    "    elif 'research' in title.lower():\n",
    "        return 'research'\n",
    "    elif 'software' in title.lower():\n",
    "        return 'sw'\n",
    "    elif 'manager' in title.lower():\n",
    "        return 'manager'\n",
    "    elif 'director' in title.lower():\n",
    "        return 'director'\n",
    "    else:\n",
    "        return 'na'"
   ]
  },
  {
   "cell_type": "code",
   "execution_count": 60,
   "metadata": {},
   "outputs": [],
   "source": [
    "def title_number_simplifier(title):\n",
    "    if 'data scientist' in title.lower():\n",
    "        return 3\n",
    "    elif 'data engineer' in title.lower():\n",
    "        return 2\n",
    "    elif 'analyst' in title.lower():\n",
    "        return 1\n",
    "    elif 'machine learning' in title.lower():\n",
    "        return 6\n",
    "    elif 'research' in title.lower():\n",
    "        return 8\n",
    "    elif 'software' in title.lower():\n",
    "        return 9\n",
    "    elif 'manager' in title.lower():\n",
    "        return 5\n",
    "    elif 'director' in title.lower():\n",
    "        return 4\n",
    "    else:\n",
    "        return 7"
   ]
  },
  {
   "cell_type": "code",
   "execution_count": 61,
   "metadata": {},
   "outputs": [],
   "source": [
    "df['job_type']=df['Job Title'].apply(title_simplifier)"
   ]
  },
  {
   "cell_type": "code",
   "execution_count": 62,
   "metadata": {},
   "outputs": [],
   "source": [
    "df['job_type_num']=df['Job Title'].apply(title_number_simplifier)"
   ]
  },
  {
   "cell_type": "code",
   "execution_count": 63,
   "metadata": {},
   "outputs": [
    {
     "data": {
      "text/plain": [
       "data scientist    687\n",
       "na                 73\n",
       "data engineer      67\n",
       "analyst            59\n",
       "mle                23\n",
       "research           13\n",
       "director            8\n",
       "manager             8\n",
       "sw                  2\n",
       "Name: job_type, dtype: int64"
      ]
     },
     "execution_count": 63,
     "metadata": {},
     "output_type": "execute_result"
    }
   ],
   "source": [
    "df['job_type'].value_counts()"
   ]
  },
  {
   "cell_type": "markdown",
   "metadata": {},
   "source": [
    "### Seniority Level of the Job:"
   ]
  },
  {
   "cell_type": "code",
   "execution_count": 64,
   "metadata": {},
   "outputs": [],
   "source": [
    "def seniority(title):\n",
    "    if 'sr' in title.lower() or 'senior' in title.lower() or 'sr' in title.lower() or 'lead' in title.lower() or 'principal' in title.lower():\n",
    "        return 'senior'\n",
    "    elif 'jr' in title.lower() or 'jr.' in title.lower():\n",
    "        return 'jr'\n",
    "    else:\n",
    "        return 'na'"
   ]
  },
  {
   "cell_type": "code",
   "execution_count": 65,
   "metadata": {},
   "outputs": [],
   "source": [
    "def seniority_number(title):\n",
    "    if 'sr' in title.lower() or 'senior' in title.lower() or 'sr' in title.lower() or 'lead' in title.lower() or 'principal' in title.lower():\n",
    "        return '1'\n",
    "    elif 'jr' in title.lower() or 'jr.' in title.lower():\n",
    "        return '0'\n",
    "    else:\n",
    "        return '2'"
   ]
  },
  {
   "cell_type": "code",
   "execution_count": 66,
   "metadata": {},
   "outputs": [],
   "source": [
    "df['seniority']=df['Job Title'].apply(seniority)"
   ]
  },
  {
   "cell_type": "code",
   "execution_count": 67,
   "metadata": {},
   "outputs": [
    {
     "data": {
      "text/plain": [
       "na        778\n",
       "senior    162\n",
       "Name: seniority, dtype: int64"
      ]
     },
     "execution_count": 67,
     "metadata": {},
     "output_type": "execute_result"
    }
   ],
   "source": [
    "df['seniority'].value_counts()"
   ]
  },
  {
   "cell_type": "code",
   "execution_count": 68,
   "metadata": {},
   "outputs": [],
   "source": [
    "df['seniority_num']=df['Job Title'].apply(seniority_number)"
   ]
  },
  {
   "cell_type": "code",
   "execution_count": 69,
   "metadata": {},
   "outputs": [
    {
     "data": {
      "text/plain": [
       "Index(['Job Title', 'Salary Estimate', 'Job Description', 'Rating',\n",
       "       'Company Name', 'Location', 'Headquarters', 'Size', 'Founded',\n",
       "       'Type of ownership', 'Industry', 'Sector', 'Revenue', 'Competitors',\n",
       "       'min_salary', 'max_salary', 'avg_salary', 'State', 'jobhq', 'age',\n",
       "       'python_yn', 'r_yn', 'aws_yn', 'spark_yn', 'hadoop_yn', 'docker_yn',\n",
       "       'sql_yn', 'linux_yn', 'flask_yn', 'django_yn', 'tensorflow_yn',\n",
       "       'keras_yn', 'pytorch_yn', 'algo_yn', 'stats_yn', 'tableau_yn',\n",
       "       'job_type', 'job_type_num', 'seniority', 'seniority_num'],\n",
       "      dtype='object')"
      ]
     },
     "execution_count": 69,
     "metadata": {},
     "output_type": "execute_result"
    }
   ],
   "source": [
    "df.columns"
   ]
  },
  {
   "cell_type": "markdown",
   "metadata": {},
   "source": [
    "### Job Description Length:"
   ]
  },
  {
   "cell_type": "code",
   "execution_count": 70,
   "metadata": {},
   "outputs": [],
   "source": [
    "df['len_desc']=df['Job Description'].apply(lambda x:len(x))"
   ]
  },
  {
   "cell_type": "code",
   "execution_count": 71,
   "metadata": {},
   "outputs": [
    {
     "data": {
      "text/plain": [
       "0      3962\n",
       "1      5358\n",
       "2      3183\n",
       "3      4218\n",
       "4      1833\n",
       "       ... \n",
       "995    2106\n",
       "996    2902\n",
       "997    3527\n",
       "998    3674\n",
       "999    6200\n",
       "Name: len_desc, Length: 940, dtype: int64"
      ]
     },
     "execution_count": 71,
     "metadata": {},
     "output_type": "execute_result"
    }
   ],
   "source": [
    "df['len_desc']"
   ]
  },
  {
   "cell_type": "markdown",
   "metadata": {},
   "source": [
    "### Number of Competitors:"
   ]
  },
  {
   "cell_type": "code",
   "execution_count": 72,
   "metadata": {},
   "outputs": [],
   "source": [
    "df['num_comp']=df['Competitors'].apply(lambda x:len(x.split(',')) if x!='-1' else 0)"
   ]
  },
  {
   "cell_type": "code",
   "execution_count": 73,
   "metadata": {},
   "outputs": [
    {
     "data": {
      "text/plain": [
       "0    628\n",
       "3    211\n",
       "2     83\n",
       "1     18\n",
       "Name: num_comp, dtype: int64"
      ]
     },
     "execution_count": 73,
     "metadata": {},
     "output_type": "execute_result"
    }
   ],
   "source": [
    "df['num_comp'].value_counts()"
   ]
  },
  {
   "cell_type": "code",
   "execution_count": 74,
   "metadata": {},
   "outputs": [
    {
     "data": {
      "text/plain": [
       "Index(['Job Title', 'Salary Estimate', 'Job Description', 'Rating',\n",
       "       'Company Name', 'Location', 'Headquarters', 'Size', 'Founded',\n",
       "       'Type of ownership', 'Industry', 'Sector', 'Revenue', 'Competitors',\n",
       "       'min_salary', 'max_salary', 'avg_salary', 'State', 'jobhq', 'age',\n",
       "       'python_yn', 'r_yn', 'aws_yn', 'spark_yn', 'hadoop_yn', 'docker_yn',\n",
       "       'sql_yn', 'linux_yn', 'flask_yn', 'django_yn', 'tensorflow_yn',\n",
       "       'keras_yn', 'pytorch_yn', 'algo_yn', 'stats_yn', 'tableau_yn',\n",
       "       'job_type', 'job_type_num', 'seniority', 'seniority_num', 'len_desc',\n",
       "       'num_comp'],\n",
       "      dtype='object')"
      ]
     },
     "execution_count": 74,
     "metadata": {},
     "output_type": "execute_result"
    }
   ],
   "source": [
    "df.columns"
   ]
  },
  {
   "cell_type": "code",
   "execution_count": 75,
   "metadata": {},
   "outputs": [
    {
     "data": {
      "text/plain": [
       "(940, 42)"
      ]
     },
     "execution_count": 75,
     "metadata": {},
     "output_type": "execute_result"
    }
   ],
   "source": [
    "df.shape"
   ]
  },
  {
   "cell_type": "markdown",
   "metadata": {},
   "source": [
    "# Exporting Cleaned Dataframe into a CSV file:"
   ]
  },
  {
   "cell_type": "code",
   "execution_count": 76,
   "metadata": {},
   "outputs": [],
   "source": [
    "df.to_csv('glassdoor_jobs_cleaned.csv',index=False)"
   ]
  }
 ],
 "metadata": {
  "kernelspec": {
   "display_name": "mlp",
   "language": "python",
   "name": "python3"
  },
  "language_info": {
   "codemirror_mode": {
    "name": "ipython",
    "version": 3
   },
   "file_extension": ".py",
   "mimetype": "text/x-python",
   "name": "python",
   "nbconvert_exporter": "python",
   "pygments_lexer": "ipython3",
   "version": "3.8.15"
  },
  "vscode": {
   "interpreter": {
    "hash": "c6edb8a8de37064d7b613e74ad1a7af4dd0abfb04a933303eca80fca5548ad76"
   }
  }
 },
 "nbformat": 4,
 "nbformat_minor": 4
}
